{
 "cells": [
  {
   "cell_type": "code",
   "execution_count": null,
   "id": "2aa220eb-7c9d-484e-8946-21169372c137",
   "metadata": {},
   "outputs": [],
   "source": [
    "%load_ext autoreload\n",
    "%autoreload 2"
   ]
  },
  {
   "cell_type": "code",
   "execution_count": null,
   "id": "d7f1725f-9a64-46d4-a4d2-ef0cd3767c0a",
   "metadata": {},
   "outputs": [],
   "source": [
    "import sys\n",
    "\n",
    "import cv2\n",
    "import pandas as pd\n",
    "import matplotlib.pyplot as plt\n",
    "from sklearn.dummy import DummyClassifier\n",
    "from sklearn.metrics import f1_score\n",
    "from skmultilearn.model_selection import IterativeStratification"
   ]
  },
  {
   "cell_type": "code",
   "execution_count": null,
   "id": "bc05143a-aee1-4334-9a45-5b612917e710",
   "metadata": {},
   "outputs": [],
   "source": [
    "IMAGE_PATH = \"../data/train-jpg/\""
   ]
  },
  {
   "cell_type": "code",
   "execution_count": null,
   "id": "1e8850c0-de7b-47a9-8bf4-9ea4e3e68085",
   "metadata": {},
   "outputs": [],
   "source": [
    "df = pd.read_csv(\"../data/train_classes.csv\")"
   ]
  },
  {
   "cell_type": "code",
   "execution_count": null,
   "id": "a8151f8f-74fa-431a-b1b9-e6e9b959f12d",
   "metadata": {},
   "outputs": [],
   "source": [
    "df.head(3)"
   ]
  },
  {
   "cell_type": "code",
   "execution_count": null,
   "id": "f1198c1e-ac9f-47ad-9705-b2b5849074c2",
   "metadata": {},
   "outputs": [],
   "source": [
    "df.tags.value_counts()"
   ]
  },
  {
   "cell_type": "code",
   "execution_count": null,
   "id": "88b54271-cf4f-4133-a2d4-49f4284f3630",
   "metadata": {},
   "outputs": [],
   "source": [
    "class_names = df.columns.drop([\"image_name\", \"tags\"])"
   ]
  },
  {
   "cell_type": "code",
   "execution_count": null,
   "id": "ab0111bc-b7de-4a69-8c20-98e3b9ee611c",
   "metadata": {},
   "outputs": [],
   "source": [
    "class_names"
   ]
  },
  {
   "cell_type": "code",
   "execution_count": null,
   "id": "f670e80a-1996-4383-808e-133738d0ccb6",
   "metadata": {},
   "outputs": [],
   "source": [
    "labels = df.loc[:, class_names]"
   ]
  },
  {
   "cell_type": "code",
   "execution_count": null,
   "id": "d28d0e27-7c5c-43ca-bfd7-ff273ec5496b",
   "metadata": {},
   "outputs": [],
   "source": [
    "labels.shape[1]"
   ]
  },
  {
   "cell_type": "code",
   "execution_count": null,
   "id": "29a73792-cea3-4018-af37-bceb923fbf64",
   "metadata": {},
   "outputs": [],
   "source": [
    "labels.sum(1).describe()"
   ]
  },
  {
   "cell_type": "code",
   "execution_count": null,
   "id": "71ee1d6e-0af8-4fd9-87d7-971674cdd58f",
   "metadata": {},
   "outputs": [],
   "source": [
    "labels.sum(0)"
   ]
  },
  {
   "cell_type": "code",
   "execution_count": null,
   "id": "3eb965d7-92fb-4021-b278-7bdfb8a49e87",
   "metadata": {},
   "outputs": [],
   "source": [
    "labels.mean(0) "
   ]
  },
  {
   "cell_type": "code",
   "execution_count": null,
   "id": "fb952d66-9443-45b7-b6c4-845220ecf426",
   "metadata": {},
   "outputs": [],
   "source": [
    "train_idx, val_idx = next(iter(IterativeStratification(n_splits=3).split(labels, labels)))"
   ]
  },
  {
   "cell_type": "code",
   "execution_count": null,
   "id": "0ccd8996-cf6a-42ae-92cd-be9928ab64a0",
   "metadata": {},
   "outputs": [],
   "source": [
    "train_labels = labels.iloc[train_idx, :]\n",
    "val_labels = labels.iloc[val_idx, :]"
   ]
  },
  {
   "cell_type": "code",
   "execution_count": null,
   "id": "951be3b0-d33f-450e-a6a4-f7b4ceffbf44",
   "metadata": {},
   "outputs": [],
   "source": [
    "clf = DummyClassifier(strategy=\"prior\")\n",
    "clf.fit(None, train_labels)\n",
    "val_preds = clf.predict(val_labels)\n",
    "f1_score_baseline = f1_score(val_labels, val_preds, average=\"macro\")\n",
    "f1_score_baseline"
   ]
  },
  {
   "cell_type": "code",
   "execution_count": null,
   "id": "a05e7320-c68a-44fc-9885-02fec23e5cd4",
   "metadata": {},
   "outputs": [],
   "source": [
    "row = df.sample(n=1)\n",
    "\n",
    "image = cv2.imread(IMAGE_PATH + row.iloc[0, 0] + \".jpg\")\n",
    "plt.imshow(image);\n",
    "plt.title(row.iloc[0, 1]);"
   ]
  }
 ],
 "metadata": {
  "kernelspec": {
   "display_name": "Python 3 (ipykernel)",
   "language": "python",
   "name": "python3"
  },
  "language_info": {
   "codemirror_mode": {
    "name": "ipython",
    "version": 3
   },
   "file_extension": ".py",
   "mimetype": "text/x-python",
   "name": "python",
   "nbconvert_exporter": "python",
   "pygments_lexer": "ipython3",
   "version": "3.10.13"
  }
 },
 "nbformat": 4,
 "nbformat_minor": 5
}
